{
 "cells": [
  {
   "cell_type": "markdown",
   "metadata": {},
   "source": [
    "### aws toolkit s3 example"
   ]
  },
  {
   "cell_type": "code",
   "execution_count": 7,
   "metadata": {},
   "outputs": [
    {
     "name": "stdout",
     "output_type": "stream",
     "text": [
      "AWS Access Key ID [****************5CWV]: ^C\n",
      "\n"
     ]
    }
   ],
   "source": [
    "!aws configure"
   ]
  },
  {
   "cell_type": "code",
   "execution_count": 8,
   "metadata": {},
   "outputs": [
    {
     "name": "stdout",
     "output_type": "stream",
     "text": [
      "adambenwork.com\n",
      "asapmob\n",
      "asvpnast.com\n",
      "cactus-plant\n",
      "cactus-plant-test\n",
      "charmscast.com\n",
      "cinematic-worldwide\n",
      "codepipeline-us-west-2-713531324856\n",
      "cybersoftwear-test\n",
      "cybersoftwear.com\n",
      "discoinferno.us\n",
      "dntwatchtv.com\n",
      "elasticbeanstalk-us-east-1-626411453791\n",
      "elasticbeanstalk-us-east-2-626411453791\n",
      "elasticbeanstalk-us-west-1-626411453791\n",
      "endorsify-production\n",
      "endorsify-staging\n",
      "endorsifyoutreach.com\n",
      "everybluemoon.com\n",
      "everybluemoontest.com\n",
      "fuckatm.com\n",
      "fuckatm.com-test\n",
      "goaldenboy.com\n",
      "hidjiworld\n",
      "hidjiworld-test\n",
      "model-test-5-4\n",
      "nasaseasons.com\n",
      "peggcareers.com\n",
      "psychworld\n",
      "sagemaker-studio-mv5zpbb6a0a\n",
      "sagemaker-studio-us-west-2-626411453791\n",
      "sagemaker-us-east-2-626411453791\n",
      "sicko-test\n",
      "spidertest\n",
      "thottwat.com\n",
      "www.asvpnast.com\n",
      "www.awgecafe.com\n",
      "www.discoinferno.us\n",
      "www.dntwatchtv.com\n",
      "www.nasaseasons.com\n",
      "www.peggcareers.com\n",
      "yams-day-2020\n",
      "zappa-0gopzf4lu\n",
      "zappa-p7y7dsx52\n"
     ]
    }
   ],
   "source": [
    "import logging\n",
    "import boto3\n",
    "from botocore.exceptions import ClientError\n",
    "\n",
    "s3 = boto3.resource('s3')\n",
    "\n",
    "for b in s3.buckets.all():\n",
    "    print(b.name)"
   ]
  },
  {
   "cell_type": "code",
   "execution_count": null,
   "metadata": {},
   "outputs": [],
   "source": [
    "import os\n",
    "import sys\n",
    "import threading\n",
    "\n",
    "class ProgressPercentage(object):\n",
    "    \n",
    "    def __init__(sefl, filename):\n",
    "        self._filename = filename\n",
    "        self._size = float(os.path.getsize(filename))\n",
    "        self._seen_so_far"
   ]
  },
  {
   "cell_type": "code",
   "execution_count": 2,
   "metadata": {},
   "outputs": [
    {
     "data": {
      "text/plain": [
       "'/Users/zhangyuhao/spiders/endorsify/AWSFunctions'"
      ]
     },
     "execution_count": 2,
     "metadata": {},
     "output_type": "execute_result"
    }
   ],
   "source": [
    "import os\n",
    "os.getcwd()"
   ]
  },
  {
   "cell_type": "code",
   "execution_count": 40,
   "metadata": {},
   "outputs": [],
   "source": [
    "import logging\n",
    "import boto3\n",
    "from botocore.exceptions import ClientError\n",
    "import re\n",
    "\n",
    "\n",
    "def upload_file(file_name, bucket, object_name=None):\n",
    "    \"\"\"Upload a file to an S3 bucket\n",
    "\n",
    "    :param file_name: File to upload\n",
    "    :param bucket: Bucket to upload to\n",
    "    :param object_name: S3 object name. If not specified then file_name is used\n",
    "    :return: True if file was uploaded, else False\n",
    "    \"\"\"\n",
    "    \n",
    "    \n",
    "    # If S3 object_name was not specified, use file_name\n",
    "    if object_name is None:\n",
    "        object_name = re.match('.*/(.*)',file_name).group(1)\n",
    "    \n",
    "    print(object_name)\n",
    "    # Upload the file\n",
    "    s3_client = boto3.client('s3')\n",
    "    try:\n",
    "        s3_client.upload_file(file_name, bucket, 'name')\n",
    "                \n",
    "    except ClientError as e:\n",
    "        logging.error(e)\n",
    "        return False\n",
    "    return True"
   ]
  },
  {
   "cell_type": "code",
   "execution_count": 41,
   "metadata": {},
   "outputs": [
    {
     "name": "stdout",
     "output_type": "stream",
     "text": [
      "test2.txt\n"
     ]
    },
    {
     "data": {
      "text/plain": [
       "True"
      ]
     },
     "execution_count": 41,
     "metadata": {},
     "output_type": "execute_result"
    }
   ],
   "source": [
    "upload_file(file_name = '/Users/zhangyuhao/spiders/endorsify/AWSFunctions/test2.txt',\n",
    "            bucket = 'model-test-5-4')"
   ]
  },
  {
   "cell_type": "code",
   "execution_count": 39,
   "metadata": {},
   "outputs": [
    {
     "data": {
      "text/plain": [
       "'test2.txt'"
      ]
     },
     "execution_count": 39,
     "metadata": {},
     "output_type": "execute_result"
    }
   ],
   "source": [
    "import re\n",
    "re.match('.*/(.*)', file_name).group(1)"
   ]
  }
 ],
 "metadata": {
  "kernelspec": {
   "display_name": "Python 3",
   "language": "python",
   "name": "python3"
  },
  "language_info": {
   "codemirror_mode": {
    "name": "ipython",
    "version": 3
   },
   "file_extension": ".py",
   "mimetype": "text/x-python",
   "name": "python",
   "nbconvert_exporter": "python",
   "pygments_lexer": "ipython3",
   "version": "3.7.3"
  }
 },
 "nbformat": 4,
 "nbformat_minor": 4
}
